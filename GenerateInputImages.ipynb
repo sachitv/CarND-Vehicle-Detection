{
 "cells": [
  {
   "cell_type": "code",
   "execution_count": 2,
   "metadata": {
    "collapsed": false
   },
   "outputs": [],
   "source": [
    "import numpy as np\n",
    "import cv2\n",
    "import glob\n",
    "import matplotlib.pyplot as plt\n",
    "import math\n",
    "import matplotlib.image as mpimg\n",
    "from ipywidgets import IntProgress, Layout\n",
    "from IPython.display import display\n",
    "\n",
    "def processVideo():\n",
    "    vid = cv2.VideoCapture('project_video.mp4')\n",
    "    \n",
    "    counter = 1\n",
    "    \n",
    "    total_frames = int(vid.get(cv2.CAP_PROP_FRAME_COUNT))\n",
    "    \n",
    "    f = IntProgress(min=0, max=total_frames)\n",
    "    display(f)\n",
    "    \n",
    "    while(vid.isOpened()):\n",
    "        ret, frame = vid.read()\n",
    "        \n",
    "        if (ret == True):             \n",
    "            cv2.imwrite(\"input_images/frame_\"+str(counter)+\".jpg\", frame)\n",
    "            \n",
    "            if ( cv2.waitKey(30) > 0 ):\n",
    "                break\n",
    "            \n",
    "            counter+=1\n",
    "            f.value+=1\n",
    "        else:\n",
    "            break\n",
    "            \n",
    "    vid.release()\n",
    "\n",
    "processVideo()\n"
   ]
  },
  {
   "cell_type": "code",
   "execution_count": null,
   "metadata": {
    "collapsed": true
   },
   "outputs": [],
   "source": []
  }
 ],
 "metadata": {
  "kernelspec": {
   "display_name": "Python 3",
   "language": "python",
   "name": "python3"
  },
  "language_info": {
   "codemirror_mode": {
    "name": "ipython",
    "version": 3
   },
   "file_extension": ".py",
   "mimetype": "text/x-python",
   "name": "python",
   "nbconvert_exporter": "python",
   "pygments_lexer": "ipython3",
   "version": "3.5.2"
  },
  "widgets": {
   "state": {
    "4a51e8d67e0f4b7dacc2f35e30fdb757": {
     "views": [
      {
       "cell_index": 0
      }
     ]
    },
    "6b7187e8028a47ba837a89d757c44113": {
     "views": []
    }
   },
   "version": "1.1.2"
  }
 },
 "nbformat": 4,
 "nbformat_minor": 2
}
