{
 "cells": [
  {
   "cell_type": "code",
   "execution_count": 17,
   "metadata": {
    "collapsed": false
   },
   "outputs": [
    {
     "data": {
      "text/plain": [
       "\"\\nimg = GenerateShadowImage(img)\\n\\nflipped = np.zeros_like(img)\\n\\ncv2.flip(img, 1, flipped)\\n\\nplt.imshow(flipped, cmap='gray')\\nplt.show()\\n\""
      ]
     },
     "execution_count": 17,
     "metadata": {},
     "output_type": "execute_result"
    }
   ],
   "source": [
    "import numpy as np\n",
    "import cv2\n",
    "import glob\n",
    "import matplotlib.pyplot as plt\n",
    "import math\n",
    "import matplotlib.image as mpimg\n",
    "import random\n",
    "\n",
    "def generateRandomNoise(size=(64,64)):\n",
    "    img = np.random.randint(0, 200, size=size, dtype=np.uint8)\n",
    "    img = cv2.GaussianBlur(img,(13,13),0)\n",
    "    img = cv2.equalizeHist(img)\n",
    "    return img;\n",
    "\n",
    "def GenerateShadowImage(img):\n",
    "    img = cv2.cvtColor(img, cv2.COLOR_RGB2HLS)\n",
    "    noise = generateRandomNoise((img.shape[1],img.shape[0]))\n",
    "\n",
    "    img[:,:,1] = cv2.addWeighted(img[:,:,1], 0.5, noise, 0.2, 0)\n",
    "\n",
    "    img = cv2.cvtColor(img, cv2.COLOR_HLS2RGB)\n",
    "    return img\n",
    "\n",
    "\n",
    "frame = \"frame_25\"\n",
    "image_name_read = \"input_images/\"+frame+\".jpg\"\n",
    "img = mpimg.imread(image_name_read)\n",
    "\n",
    "#Creating Sample Images\n",
    "for i in range(100):\n",
    "    maxwidth = 128\n",
    "    end_width = 800\n",
    "    start_y = 400\n",
    "    end_height = img.shape[0]\n",
    "    \n",
    "    xend = end_width - 32\n",
    "    x = random.randint(0, xend)\n",
    "    width = random.randint(x, end_width) - x\n",
    "    \n",
    "    if(width > 256):\n",
    "        width = 256\n",
    "    \n",
    "    y = random.randint(start_y, end_height - width)\n",
    "    height = width\n",
    "    \n",
    "    newImg = img[y:y+width, x:x+height,:]\n",
    "    newImg = cv2.resize(newImg, (64,64))\n",
    "    \n",
    "    imgName = \"non-vehicles/My Data/random\"+frame+str(i)+\".png\"\n",
    "    mpimg.imsave(imgName, newImg)"
   ]
  },
  {
   "cell_type": "code",
   "execution_count": null,
   "metadata": {
    "collapsed": true
   },
   "outputs": [],
   "source": []
  },
  {
   "cell_type": "code",
   "execution_count": null,
   "metadata": {
    "collapsed": true
   },
   "outputs": [],
   "source": []
  }
 ],
 "metadata": {
  "kernelspec": {
   "display_name": "Python 3",
   "language": "python",
   "name": "python3"
  },
  "language_info": {
   "codemirror_mode": {
    "name": "ipython",
    "version": 3
   },
   "file_extension": ".py",
   "mimetype": "text/x-python",
   "name": "python",
   "nbconvert_exporter": "python",
   "pygments_lexer": "ipython3",
   "version": "3.5.2"
  },
  "widgets": {
   "state": {},
   "version": "1.1.2"
  }
 },
 "nbformat": 4,
 "nbformat_minor": 2
}
